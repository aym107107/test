{
 "cells": [
  {
   "cell_type": "markdown",
   "metadata": {},
   "source": [
    "# عارض صفحات الويب باستخدام Binder و ipywidgets\n",
    "\n",
    "هذا الـ Notebook يقوم بإنشاء واجهة بسيطة لعرض صفحات الويب المحددة في إطارات iframe."
   ]
  },
  {
   "cell_type": "code",
   "execution_count": null,
   "metadata": {},
   "outputs": [],
   "source": [
    "import ipywidgets as widgets\n",
    "from IPython.display import display, HTML\n",
    "\n",
    "# تعريف الروابط\n",
    "urls = [\n",
    "    \"https://ayman1077.blogspot.com/2024/04/w2.html\",\n",
    "    \"https://ayman1077.blogspot.com/2024/05/alfa.html\"\n",
    "]\n",
    "\n",
    "# إنشاء القائمة المنسدلة\n",
    "dropdown = widgets.Dropdown(\n",
    "    options=[(f\"صفحة {i+1}\", url) for i, url in enumerate(urls)],\n",
    "    description='اختر الصفحة:',\n",
    "    style={'description_width': 'initial'}\n",
    ")\n",
    "\n",
    "# إنشاء إطار iframe\n",
    "iframe = widgets.HTML(\n",
    "    value=f'<iframe src=\"{urls[0]}\" width=\"100%\" height=\"500px\"></iframe>'\n",
    ")\n",
    "\n",
    "# دالة لتحديث الإطار عند تغيير الاختيار\n",
    "def on_change(change):\n",
    "    iframe.value = f'<iframe src=\"{change.new}\" width=\"100%\" height=\"500px\"></iframe>'\n",
    "\n",
    "dropdown.observe(on_change, names='value')\n",
    "\n",
    "# إنشاء زر التحديث\n",
    "refresh_button = widgets.Button(description=\"تحديث الصفحة\")\n",
    "\n",
    "def on_refresh_click(b):\n",
    "    iframe.value = iframe.value.replace('src=\"', 'src=\"')\n",
    "\n",
    "refresh_button.on_click(on_refresh_click)\n",
    "\n",
    "# عرض الواجهة\n",
    "display(dropdown)\n",
    "display(iframe)\n",
    "display(refresh_button)"
   ]
  }
 ],
 "metadata": {
  "kernelspec": {\n",
   "display_name": "Python 3",
   "language": "python",
   "name": "python3"
  },
  "language_info": {
   "codemirror_mode": {
    "name": "ipython",
    "version": 3
   },
   "file_extension": ".py",
   "mimetype": "text/x-python",
   "name": "python",
   "nbconvert_exporter": "python",
   "pygments_lexer": "ipython3",
   "version": "3.8.10"
  }
 },
 "nbformat": 4,
 "nbformat_minor": 4
}
