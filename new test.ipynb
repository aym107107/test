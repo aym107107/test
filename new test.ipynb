{
  "metadata": {
    "kernelspec": {
      "name": "python",
      "display_name": "Python (Pyodide)",
      "language": "python"
    },
    "language_info": {
      "codemirror_mode": {
        "name": "python",
        "version": 3
      },
      "file_extension": ".py",
      "mimetype": "text/x-python",
      "name": "python",
      "nbconvert_exporter": "python",
      "pygments_lexer": "ipython3",
      "version": "3.8"
    }
  },
  "nbformat_minor": 4,
  "nbformat": 4,
  "cells": [
    {
      "cell_type": "code",
      "source": "# إعداد البيئة وتثبيت المكتبات اللازمة\nimport micropip\nawait micropip.install('ipywidgets')\nimport ipywidgets as widgets\nfrom IPython.display import display, HTML",
      "metadata": {
        "trusted": true
      },
      "outputs": [],
      "execution_count": 114
    },
    {
      "cell_type": "code",
      "source": "# تعريف الروابط\nurls = [\n    \"https://ayman1077.blogspot.com/2024/04/w2.html\",\n    \"https://ayman1077.blogspot.com/2024/05/alfa.html\"\n]\n\n# إنشاء القائمة المنسدلة\ndropdown = widgets.Dropdown(\n    options=[(f\"صفحة {i+1}\", url) for i, url in enumerate(urls)],\n    description='اختر الصفحة:',\n    style={'description_width': 'initial'}\n)\n\n# إنشاء إطار iframe\niframe = widgets.HTML(\n    value=f'<iframe src=\"{urls[0]}\" width=\"10%\" height=\"50px\"></iframe>'\n)\n\n# دالة لتحديث الإطار عند تغيير الاختيار\ndef on_change(change):\n    iframe.value = f'<iframe src=\"{change.new}\" width=\"10%\" height=\"50px\"></iframe>'\n\ndropdown.observe(on_change, names='value')\n\n# إنشاء زر التحديث\nrefresh_button = widgets.Button(description=\"تحديث الصفحة\")\n\ndef on_refresh_click(b):\n    iframe.value = iframe.value.replace('src=\"', 'src=\"')\n\nrefresh_button.on_click(on_refresh_click)\n\n# عرض الواجهة\ndisplay(dropdown)\ndisplay(iframe)\ndisplay(refresh_button)",
      "metadata": {
        "trusted": true
      },
      "outputs": [
        {
          "output_type": "display_data",
          "data": {
            "text/plain": "Dropdown(description='اختر الصفحة:', options=(('صفحة 1', 'https://ayman1077.blogspot.com/2024/04/w2.html'), ('…",
            "application/vnd.jupyter.widget-view+json": {
              "version_major": 2,
              "version_minor": 0,
              "model_id": "9f1785dc5bb04ef7837cd7a624b5959b"
            }
          },
          "metadata": {}
        },
        {
          "output_type": "display_data",
          "data": {
            "text/plain": "HTML(value='<iframe src=\"https://ayman1077.blogspot.com/2024/04/w2.html\" width=\"10%\" height=\"50px\"></iframe>')",
            "application/vnd.jupyter.widget-view+json": {
              "version_major": 2,
              "version_minor": 0,
              "model_id": "a9e4500fd5f1491c8ba2e8a50e376616"
            }
          },
          "metadata": {}
        },
        {
          "output_type": "display_data",
          "data": {
            "text/plain": "Button(description='تحديث الصفحة', style=ButtonStyle())",
            "application/vnd.jupyter.widget-view+json": {
              "version_major": 2,
              "version_minor": 0,
              "model_id": "28c74dfc864c49328c0f67cc86da8a55"
            }
          },
          "metadata": {}
        }
      ],
      "execution_count": 115
    },
    {
      "cell_type": "code",
      "source": "# تعريف الروابط\nurls = [\n    \"https://ayman1077.blogspot.com/2024/04/w2.html\",\n    \"https://ayman1077.blogspot.com/2024/05/alfa.html\"\n]\n\n# إنشاء القائمة المنسدلة\ndropdown = widgets.Dropdown(\n    options=[(f\"صفحة {i+1}\", url) for i, url in enumerate(urls)],\n    description='اختر الصفحة:',\n    style={'description_width': 'initial'}\n)\n\n# إنشاء إطار iframe\niframe = widgets.HTML(\n    value=f'<iframe src=\"{urls[0]}\" width=\"10%\" height=\"50px\"></iframe>'\n)\n\n# دالة لتحديث الإطار عند تغيير الاختيار\ndef on_change(change):\n    iframe.value = f'<iframe src=\"{change.new}\" width=\"10%\" height=\"50px\"></iframe>'\n\ndropdown.observe(on_change, names='value')\n\n# إنشاء زر التحديث\nrefresh_button = widgets.Button(description=\"تحديث الصفحة\")\n\ndef on_refresh_click(b):\n    iframe.value = iframe.value.replace('src=\"', 'src=\"')\n\nrefresh_button.on_click(on_refresh_click)\n\n# عرض الواجهة\ndisplay(dropdown)\ndisplay(iframe)\ndisplay(refresh_button)",
      "metadata": {
        "trusted": true
      },
      "outputs": [
        {
          "output_type": "display_data",
          "data": {
            "text/plain": "Dropdown(description='اختر الصفحة:', options=(('صفحة 1', 'https://ayman1077.blogspot.com/2024/04/w2.html'), ('…",
            "application/vnd.jupyter.widget-view+json": {
              "version_major": 2,
              "version_minor": 0,
              "model_id": "3d60043f481f4686a793e133d34e327a"
            }
          },
          "metadata": {}
        },
        {
          "output_type": "display_data",
          "data": {
            "text/plain": "HTML(value='<iframe src=\"https://ayman1077.blogspot.com/2024/04/w2.html\" width=\"10%\" height=\"50px\"></iframe>')",
            "application/vnd.jupyter.widget-view+json": {
              "version_major": 2,
              "version_minor": 0,
              "model_id": "cff939ea68ef47e3a760bef5b434cf7e"
            }
          },
          "metadata": {}
        },
        {
          "output_type": "display_data",
          "data": {
            "text/plain": "Button(description='تحديث الصفحة', style=ButtonStyle())",
            "application/vnd.jupyter.widget-view+json": {
              "version_major": 2,
              "version_minor": 0,
              "model_id": "bc579a5fc2ea498893025dd4a98fb800"
            }
          },
          "metadata": {}
        }
      ],
      "execution_count": 116
    },
    {
      "cell_type": "code",
      "source": "# تعريف الروابط\nurls = [\n    \"https://ayman1077.blogspot.com/2024/04/w2.html\",\n    \"https://ayman1077.blogspot.com/2024/05/alfa.html\"\n]\n\n# إنشاء القائمة المنسدلة\ndropdown = widgets.Dropdown(\n    options=[(f\"صفحة {i+1}\", url) for i, url in enumerate(urls)],\n    description='اختر الصفحة:',\n    style={'description_width': 'initial'}\n)\n\n# إنشاء إطار iframe\niframe = widgets.HTML(\n    value=f'<iframe src=\"{urls[0]}\" width=\"10%\" height=\"50px\"></iframe>'\n)\n\n# دالة لتحديث الإطار عند تغيير الاختيار\ndef on_change(change):\n    iframe.value = f'<iframe src=\"{change.new}\" width=\"10%\" height=\"50px\"></iframe>'\n\ndropdown.observe(on_change, names='value')\n\n# إنشاء زر التحديث\nrefresh_button = widgets.Button(description=\"تحديث الصفحة\")\n\ndef on_refresh_click(b):\n    iframe.value = iframe.value.replace('src=\"', 'src=\"')\n\nrefresh_button.on_click(on_refresh_click)\n\n# عرض الواجهة\ndisplay(dropdown)\ndisplay(iframe)\ndisplay(refresh_button)",
      "metadata": {
        "trusted": true
      },
      "outputs": [
        {
          "output_type": "display_data",
          "data": {
            "text/plain": "Dropdown(description='اختر الصفحة:', options=(('صفحة 1', 'https://ayman1077.blogspot.com/2024/04/w2.html'), ('…",
            "application/vnd.jupyter.widget-view+json": {
              "version_major": 2,
              "version_minor": 0,
              "model_id": "a43b8ad4605f4a1089c82fbba3ae27cb"
            }
          },
          "metadata": {}
        },
        {
          "output_type": "display_data",
          "data": {
            "text/plain": "HTML(value='<iframe src=\"https://ayman1077.blogspot.com/2024/04/w2.html\" width=\"10%\" height=\"50px\"></iframe>')",
            "application/vnd.jupyter.widget-view+json": {
              "version_major": 2,
              "version_minor": 0,
              "model_id": "ca856dec7d144cdfaf7ce92a130f2a8c"
            }
          },
          "metadata": {}
        },
        {
          "output_type": "display_data",
          "data": {
            "text/plain": "Button(description='تحديث الصفحة', style=ButtonStyle())",
            "application/vnd.jupyter.widget-view+json": {
              "version_major": 2,
              "version_minor": 0,
              "model_id": "d68b46e975954817a226deaf1252a862"
            }
          },
          "metadata": {}
        }
      ],
      "execution_count": 117
    },
    {
      "cell_type": "code",
      "source": "# تعريف الروابط\nurls = [\n    \"https://ayman1077.blogspot.com/2024/04/w2.html\",\n    \"https://ayman1077.blogspot.com/2024/05/alfa.html\"\n]\n\n# إنشاء القائمة المنسدلة\ndropdown = widgets.Dropdown(\n    options=[(f\"صفحة {i+1}\", url) for i, url in enumerate(urls)],\n    description='اختر الصفحة:',\n    style={'description_width': 'initial'}\n)\n\n# إنشاء إطار iframe\niframe = widgets.HTML(\n    value=f'<iframe src=\"{urls[0]}\" width=\"10%\" height=\"50px\"></iframe>'\n)\n\n# دالة لتحديث الإطار عند تغيير الاختيار\ndef on_change(change):\n    iframe.value = f'<iframe src=\"{change.new}\" width=\"10%\" height=\"50px\"></iframe>'\n\ndropdown.observe(on_change, names='value')\n\n# إنشاء زر التحديث\nrefresh_button = widgets.Button(description=\"تحديث الصفحة\")\n\ndef on_refresh_click(b):\n    iframe.value = iframe.value.replace('src=\"', 'src=\"')\n\nrefresh_button.on_click(on_refresh_click)\n\n# عرض الواجهة\ndisplay(dropdown)\ndisplay(iframe)\ndisplay(refresh_button)",
      "metadata": {
        "trusted": true
      },
      "outputs": [
        {
          "output_type": "display_data",
          "data": {
            "text/plain": "Dropdown(description='اختر الصفحة:', options=(('صفحة 1', 'https://ayman1077.blogspot.com/2024/04/w2.html'), ('…",
            "application/vnd.jupyter.widget-view+json": {
              "version_major": 2,
              "version_minor": 0,
              "model_id": "ac13a73ac7064172a747511749422e77"
            }
          },
          "metadata": {}
        },
        {
          "output_type": "display_data",
          "data": {
            "text/plain": "HTML(value='<iframe src=\"https://ayman1077.blogspot.com/2024/04/w2.html\" width=\"10%\" height=\"50px\"></iframe>')",
            "application/vnd.jupyter.widget-view+json": {
              "version_major": 2,
              "version_minor": 0,
              "model_id": "dbcdf80298dd4cfd86b0541bb85bf267"
            }
          },
          "metadata": {}
        },
        {
          "output_type": "display_data",
          "data": {
            "text/plain": "Button(description='تحديث الصفحة', style=ButtonStyle())",
            "application/vnd.jupyter.widget-view+json": {
              "version_major": 2,
              "version_minor": 0,
              "model_id": "ef17601fba5f49f287a8659d1c7c1095"
            }
          },
          "metadata": {}
        }
      ],
      "execution_count": 118
    },
    {
      "cell_type": "code",
      "source": "# تعريف الروابط\nurls = [\n    \"https://ayman1077.blogspot.com/2024/04/w2.html\",\n    \"https://ayman1077.blogspot.com/2024/05/alfa.html\"\n]\n\n# إنشاء القائمة المنسدلة\ndropdown = widgets.Dropdown(\n    options=[(f\"صفحة {i+1}\", url) for i, url in enumerate(urls)],\n    description='اختر الصفحة:',\n    style={'description_width': 'initial'}\n)\n\n# إنشاء إطار iframe\niframe = widgets.HTML(\n    value=f'<iframe src=\"{urls[0]}\" width=\"10%\" height=\"50px\"></iframe>'\n)\n\n# دالة لتحديث الإطار عند تغيير الاختيار\ndef on_change(change):\n    iframe.value = f'<iframe src=\"{change.new}\" width=\"10%\" height=\"50px\"></iframe>'\n\ndropdown.observe(on_change, names='value')\n\n# إنشاء زر التحديث\nrefresh_button = widgets.Button(description=\"تحديث الصفحة\")\n\ndef on_refresh_click(b):\n    iframe.value = iframe.value.replace('src=\"', 'src=\"')\n\nrefresh_button.on_click(on_refresh_click)\n\n# عرض الواجهة\ndisplay(dropdown)\ndisplay(iframe)\ndisplay(refresh_button)",
      "metadata": {
        "trusted": true
      },
      "outputs": [
        {
          "output_type": "display_data",
          "data": {
            "text/plain": "Dropdown(description='اختر الصفحة:', options=(('صفحة 1', 'https://ayman1077.blogspot.com/2024/04/w2.html'), ('…",
            "application/vnd.jupyter.widget-view+json": {
              "version_major": 2,
              "version_minor": 0,
              "model_id": "27b04508e99b48df86a56779e51414da"
            }
          },
          "metadata": {}
        },
        {
          "output_type": "display_data",
          "data": {
            "text/plain": "HTML(value='<iframe src=\"https://ayman1077.blogspot.com/2024/04/w2.html\" width=\"10%\" height=\"50px\"></iframe>')",
            "application/vnd.jupyter.widget-view+json": {
              "version_major": 2,
              "version_minor": 0,
              "model_id": "92a014a8a04c400f912c9e9f779c69ed"
            }
          },
          "metadata": {}
        },
        {
          "output_type": "display_data",
          "data": {
            "text/plain": "Button(description='تحديث الصفحة', style=ButtonStyle())",
            "application/vnd.jupyter.widget-view+json": {
              "version_major": 2,
              "version_minor": 0,
              "model_id": "3a111249e50b4550b1b6e02862a40180"
            }
          },
          "metadata": {}
        }
      ],
      "execution_count": 119
    },
    {
      "cell_type": "code",
      "source": "# تعريف الروابط\nurls = [\n    \"https://ayman1077.blogspot.com/2024/04/w2.html\",\n    \"https://ayman1077.blogspot.com/2024/05/alfa.html\"\n]\n\n# إنشاء القائمة المنسدلة\ndropdown = widgets.Dropdown(\n    options=[(f\"صفحة {i+1}\", url) for i, url in enumerate(urls)],\n    description='اختر الصفحة:',\n    style={'description_width': 'initial'}\n)\n\n# إنشاء إطار iframe\niframe = widgets.HTML(\n    value=f'<iframe src=\"{urls[0]}\" width=\"10%\" height=\"50px\"></iframe>'\n)\n\n# دالة لتحديث الإطار عند تغيير الاختيار\ndef on_change(change):\n    iframe.value = f'<iframe src=\"{change.new}\" width=\"10%\" height=\"50px\"></iframe>'\n\ndropdown.observe(on_change, names='value')\n\n# إنشاء زر التحديث\nrefresh_button = widgets.Button(description=\"تحديث الصفحة\")\n\ndef on_refresh_click(b):\n    iframe.value = iframe.value.replace('src=\"', 'src=\"')\n\nrefresh_button.on_click(on_refresh_click)\n\n# عرض الواجهة\ndisplay(dropdown)\ndisplay(iframe)\ndisplay(refresh_button)",
      "metadata": {
        "trusted": true
      },
      "outputs": [
        {
          "output_type": "display_data",
          "data": {
            "text/plain": "Dropdown(description='اختر الصفحة:', options=(('صفحة 1', 'https://ayman1077.blogspot.com/2024/04/w2.html'), ('…",
            "application/vnd.jupyter.widget-view+json": {
              "version_major": 2,
              "version_minor": 0,
              "model_id": "cb09e515bfb4488e9338a5a62bb6d37b"
            }
          },
          "metadata": {}
        },
        {
          "output_type": "display_data",
          "data": {
            "text/plain": "HTML(value='<iframe src=\"https://ayman1077.blogspot.com/2024/04/w2.html\" width=\"10%\" height=\"50px\"></iframe>')",
            "application/vnd.jupyter.widget-view+json": {
              "version_major": 2,
              "version_minor": 0,
              "model_id": "793763c7c01c47ddbdb0d9ed58f80a5a"
            }
          },
          "metadata": {}
        },
        {
          "output_type": "display_data",
          "data": {
            "text/plain": "Button(description='تحديث الصفحة', style=ButtonStyle())",
            "application/vnd.jupyter.widget-view+json": {
              "version_major": 2,
              "version_minor": 0,
              "model_id": "25b6d8424d9b4621961de8db7b40595d"
            }
          },
          "metadata": {}
        }
      ],
      "execution_count": 120
    },
    {
      "cell_type": "code",
      "source": "# تعريف الروابط\nurls = [\n    \"https://ayman1077.blogspot.com/2024/04/w2.html\",\n    \"https://ayman1077.blogspot.com/2024/05/alfa.html\"\n]\n\n# إنشاء القائمة المنسدلة\ndropdown = widgets.Dropdown(\n    options=[(f\"صفحة {i+1}\", url) for i, url in enumerate(urls)],\n    description='اختر الصفحة:',\n    style={'description_width': 'initial'}\n)\n\n# إنشاء إطار iframe\niframe = widgets.HTML(\n    value=f'<iframe src=\"{urls[0]}\" width=\"10%\" height=\"50px\"></iframe>'\n)\n\n# دالة لتحديث الإطار عند تغيير الاختيار\ndef on_change(change):\n    iframe.value = f'<iframe src=\"{change.new}\" width=\"10%\" height=\"50px\"></iframe>'\n\ndropdown.observe(on_change, names='value')\n\n# إنشاء زر التحديث\nrefresh_button = widgets.Button(description=\"تحديث الصفحة\")\n\ndef on_refresh_click(b):\n    iframe.value = iframe.value.replace('src=\"', 'src=\"')\n\nrefresh_button.on_click(on_refresh_click)\n\n# عرض الواجهة\ndisplay(dropdown)\ndisplay(iframe)\ndisplay(refresh_button)",
      "metadata": {
        "trusted": true
      },
      "outputs": [
        {
          "output_type": "display_data",
          "data": {
            "text/plain": "Dropdown(description='اختر الصفحة:', options=(('صفحة 1', 'https://ayman1077.blogspot.com/2024/04/w2.html'), ('…",
            "application/vnd.jupyter.widget-view+json": {
              "version_major": 2,
              "version_minor": 0,
              "model_id": "a757baa4f29c46b79dbb405793ddf12a"
            }
          },
          "metadata": {}
        },
        {
          "output_type": "display_data",
          "data": {
            "text/plain": "HTML(value='<iframe src=\"https://ayman1077.blogspot.com/2024/04/w2.html\" width=\"10%\" height=\"50px\"></iframe>')",
            "application/vnd.jupyter.widget-view+json": {
              "version_major": 2,
              "version_minor": 0,
              "model_id": "c2190d70232045f0b32a8aa01e112c8e"
            }
          },
          "metadata": {}
        },
        {
          "output_type": "display_data",
          "data": {
            "text/plain": "Button(description='تحديث الصفحة', style=ButtonStyle())",
            "application/vnd.jupyter.widget-view+json": {
              "version_major": 2,
              "version_minor": 0,
              "model_id": "7a74f127162247fa8d8bef9c51c76c3a"
            }
          },
          "metadata": {}
        }
      ],
      "execution_count": 121
    },
    {
      "cell_type": "code",
      "source": "# تعريف الروابط\nurls = [\n    \"https://ayman1077.blogspot.com/2024/04/w2.html\",\n    \"https://ayman1077.blogspot.com/2024/05/alfa.html\"\n]\n\n# إنشاء القائمة المنسدلة\ndropdown = widgets.Dropdown(\n    options=[(f\"صفحة {i+1}\", url) for i, url in enumerate(urls)],\n    description='اختر الصفحة:',\n    style={'description_width': 'initial'}\n)\n\n# إنشاء إطار iframe\niframe = widgets.HTML(\n    value=f'<iframe src=\"{urls[0]}\" width=\"10%\" height=\"50px\"></iframe>'\n)\n\n# دالة لتحديث الإطار عند تغيير الاختيار\ndef on_change(change):\n    iframe.value = f'<iframe src=\"{change.new}\" width=\"10%\" height=\"50px\"></iframe>'\n\ndropdown.observe(on_change, names='value')\n\n# إنشاء زر التحديث\nrefresh_button = widgets.Button(description=\"تحديث الصفحة\")\n\ndef on_refresh_click(b):\n    iframe.value = iframe.value.replace('src=\"', 'src=\"')\n\nrefresh_button.on_click(on_refresh_click)\n\n# عرض الواجهة\ndisplay(dropdown)\ndisplay(iframe)\ndisplay(refresh_button)",
      "metadata": {
        "trusted": true
      },
      "outputs": [
        {
          "output_type": "display_data",
          "data": {
            "text/plain": "Dropdown(description='اختر الصفحة:', options=(('صفحة 1', 'https://ayman1077.blogspot.com/2024/04/w2.html'), ('…",
            "application/vnd.jupyter.widget-view+json": {
              "version_major": 2,
              "version_minor": 0,
              "model_id": "abdf87c25cda4495a24d9eef2a2585dc"
            }
          },
          "metadata": {}
        },
        {
          "output_type": "display_data",
          "data": {
            "text/plain": "HTML(value='<iframe src=\"https://ayman1077.blogspot.com/2024/04/w2.html\" width=\"10%\" height=\"50px\"></iframe>')",
            "application/vnd.jupyter.widget-view+json": {
              "version_major": 2,
              "version_minor": 0,
              "model_id": "73aee14d423046f7b7309fb25380d27d"
            }
          },
          "metadata": {}
        },
        {
          "output_type": "display_data",
          "data": {
            "text/plain": "Button(description='تحديث الصفحة', style=ButtonStyle())",
            "application/vnd.jupyter.widget-view+json": {
              "version_major": 2,
              "version_minor": 0,
              "model_id": "04864fc3c6f340a49f9b4483475d480c"
            }
          },
          "metadata": {}
        }
      ],
      "execution_count": 122
    },
    {
      "cell_type": "code",
      "source": "# تعريف الروابط\nurls = [\n    \"https://ayman1077.blogspot.com/2024/04/w2.html\",\n    \"https://ayman1077.blogspot.com/2024/05/alfa.html\"\n]\n\n# إنشاء القائمة المنسدلة\ndropdown = widgets.Dropdown(\n    options=[(f\"صفحة {i+1}\", url) for i, url in enumerate(urls)],\n    description='اختر الصفحة:',\n    style={'description_width': 'initial'}\n)\n\n# إنشاء إطار iframe\niframe = widgets.HTML(\n    value=f'<iframe src=\"{urls[0]}\" width=\"10%\" height=\"50px\"></iframe>'\n)\n\n# دالة لتحديث الإطار عند تغيير الاختيار\ndef on_change(change):\n    iframe.value = f'<iframe src=\"{change.new}\" width=\"10%\" height=\"50px\"></iframe>'\n\ndropdown.observe(on_change, names='value')\n\n# إنشاء زر التحديث\nrefresh_button = widgets.Button(description=\"تحديث الصفحة\")\n\ndef on_refresh_click(b):\n    iframe.value = iframe.value.replace('src=\"', 'src=\"')\n\nrefresh_button.on_click(on_refresh_click)\n\n# عرض الواجهة\ndisplay(dropdown)\ndisplay(iframe)\ndisplay(refresh_button)",
      "metadata": {
        "trusted": true
      },
      "outputs": [
        {
          "output_type": "display_data",
          "data": {
            "text/plain": "Dropdown(description='اختر الصفحة:', options=(('صفحة 1', 'https://ayman1077.blogspot.com/2024/04/w2.html'), ('…",
            "application/vnd.jupyter.widget-view+json": {
              "version_major": 2,
              "version_minor": 0,
              "model_id": "990a93806fb44836b2b1e789257be506"
            }
          },
          "metadata": {}
        },
        {
          "output_type": "display_data",
          "data": {
            "text/plain": "HTML(value='<iframe src=\"https://ayman1077.blogspot.com/2024/04/w2.html\" width=\"10%\" height=\"50px\"></iframe>')",
            "application/vnd.jupyter.widget-view+json": {
              "version_major": 2,
              "version_minor": 0,
              "model_id": "760102a2154447c683f0a89fa6fb8b05"
            }
          },
          "metadata": {}
        },
        {
          "output_type": "display_data",
          "data": {
            "text/plain": "Button(description='تحديث الصفحة', style=ButtonStyle())",
            "application/vnd.jupyter.widget-view+json": {
              "version_major": 2,
              "version_minor": 0,
              "model_id": "fa9af29d536443a6982e3d725abc2165"
            }
          },
          "metadata": {}
        }
      ],
      "execution_count": 123
    },
    {
      "cell_type": "code",
      "source": "# تعريف الروابط\nurls = [\n    \"https://ayman1077.blogspot.com/2024/04/w2.html\",\n    \"https://ayman1077.blogspot.com/2024/05/alfa.html\"\n]\n\n# إنشاء القائمة المنسدلة\ndropdown = widgets.Dropdown(\n    options=[(f\"صفحة {i+1}\", url) for i, url in enumerate(urls)],\n    description='اختر الصفحة:',\n    style={'description_width': 'initial'}\n)\n\n# إنشاء إطار iframe\niframe = widgets.HTML(\n    value=f'<iframe src=\"{urls[0]}\" width=\"10%\" height=\"50px\"></iframe>'\n)\n\n# دالة لتحديث الإطار عند تغيير الاختيار\ndef on_change(change):\n    iframe.value = f'<iframe src=\"{change.new}\" width=\"10%\" height=\"50px\"></iframe>'\n\ndropdown.observe(on_change, names='value')\n\n# إنشاء زر التحديث\nrefresh_button = widgets.Button(description=\"تحديث الصفحة\")\n\ndef on_refresh_click(b):\n    iframe.value = iframe.value.replace('src=\"', 'src=\"')\n\nrefresh_button.on_click(on_refresh_click)\n\n# عرض الواجهة\ndisplay(dropdown)\ndisplay(iframe)\ndisplay(refresh_button)",
      "metadata": {
        "trusted": true
      },
      "outputs": [
        {
          "output_type": "display_data",
          "data": {
            "text/plain": "Dropdown(description='اختر الصفحة:', options=(('صفحة 1', 'https://ayman1077.blogspot.com/2024/04/w2.html'), ('…",
            "application/vnd.jupyter.widget-view+json": {
              "version_major": 2,
              "version_minor": 0,
              "model_id": "1a6ede22f1804b39a6a7d83c3afa0f66"
            }
          },
          "metadata": {}
        },
        {
          "output_type": "display_data",
          "data": {
            "text/plain": "HTML(value='<iframe src=\"https://ayman1077.blogspot.com/2024/04/w2.html\" width=\"10%\" height=\"50px\"></iframe>')",
            "application/vnd.jupyter.widget-view+json": {
              "version_major": 2,
              "version_minor": 0,
              "model_id": "c74ac36e0c3240c6928392685aea1aa9"
            }
          },
          "metadata": {}
        },
        {
          "output_type": "display_data",
          "data": {
            "text/plain": "Button(description='تحديث الصفحة', style=ButtonStyle())",
            "application/vnd.jupyter.widget-view+json": {
              "version_major": 2,
              "version_minor": 0,
              "model_id": "6cd8166647b94c71a0ebe583779ebe53"
            }
          },
          "metadata": {}
        }
      ],
      "execution_count": 124
    },
    {
      "cell_type": "code",
      "source": "# تعريف الروابط\nurls = [\n    \"https://ayman1077.blogspot.com/2024/04/w2.html\",\n    \"https://ayman1077.blogspot.com/2024/05/alfa.html\"\n]\n\n# إنشاء القائمة المنسدلة\ndropdown = widgets.Dropdown(\n    options=[(f\"صفحة {i+1}\", url) for i, url in enumerate(urls)],\n    description='اختر الصفحة:',\n    style={'description_width': 'initial'}\n)\n\n# إنشاء إطار iframe\niframe = widgets.HTML(\n    value=f'<iframe src=\"{urls[0]}\" width=\"10%\" height=\"50px\"></iframe>'\n)\n\n# دالة لتحديث الإطار عند تغيير الاختيار\ndef on_change(change):\n    iframe.value = f'<iframe src=\"{change.new}\" width=\"10%\" height=\"50px\"></iframe>'\n\ndropdown.observe(on_change, names='value')\n\n# إنشاء زر التحديث\nrefresh_button = widgets.Button(description=\"تحديث الصفحة\")\n\ndef on_refresh_click(b):\n    iframe.value = iframe.value.replace('src=\"', 'src=\"')\n\nrefresh_button.on_click(on_refresh_click)\n\n# عرض الواجهة\ndisplay(dropdown)\ndisplay(iframe)\ndisplay(refresh_button)",
      "metadata": {
        "trusted": true
      },
      "outputs": [
        {
          "output_type": "display_data",
          "data": {
            "text/plain": "Dropdown(description='اختر الصفحة:', options=(('صفحة 1', 'https://ayman1077.blogspot.com/2024/04/w2.html'), ('…",
            "application/vnd.jupyter.widget-view+json": {
              "version_major": 2,
              "version_minor": 0,
              "model_id": "5235d70a83964101b6e36693ec7e6abc"
            }
          },
          "metadata": {}
        },
        {
          "output_type": "display_data",
          "data": {
            "text/plain": "HTML(value='<iframe src=\"https://ayman1077.blogspot.com/2024/04/w2.html\" width=\"10%\" height=\"50px\"></iframe>')",
            "application/vnd.jupyter.widget-view+json": {
              "version_major": 2,
              "version_minor": 0,
              "model_id": "4cb81a9f34454c65a6a816eb33c2314c"
            }
          },
          "metadata": {}
        },
        {
          "output_type": "display_data",
          "data": {
            "text/plain": "Button(description='تحديث الصفحة', style=ButtonStyle())",
            "application/vnd.jupyter.widget-view+json": {
              "version_major": 2,
              "version_minor": 0,
              "model_id": "0477b539a75c4751a038b037d391a701"
            }
          },
          "metadata": {}
        }
      ],
      "execution_count": 125
    },
    {
      "cell_type": "code",
      "source": "# تعريف الروابط\nurls = [\n    \"https://ayman1077.blogspot.com/2024/04/w2.html\",\n    \"https://ayman1077.blogspot.com/2024/05/alfa.html\"\n]\n\n# إنشاء القائمة المنسدلة\ndropdown = widgets.Dropdown(\n    options=[(f\"صفحة {i+1}\", url) for i, url in enumerate(urls)],\n    description='اختر الصفحة:',\n    style={'description_width': 'initial'}\n)\n\n# إنشاء إطار iframe\niframe = widgets.HTML(\n    value=f'<iframe src=\"{urls[0]}\" width=\"10%\" height=\"50px\"></iframe>'\n)\n\n# دالة لتحديث الإطار عند تغيير الاختيار\ndef on_change(change):\n    iframe.value = f'<iframe src=\"{change.new}\" width=\"10%\" height=\"50px\"></iframe>'\n\ndropdown.observe(on_change, names='value')\n\n# إنشاء زر التحديث\nrefresh_button = widgets.Button(description=\"تحديث الصفحة\")\n\ndef on_refresh_click(b):\n    iframe.value = iframe.value.replace('src=\"', 'src=\"')\n\nrefresh_button.on_click(on_refresh_click)\n\n# عرض الواجهة\ndisplay(dropdown)\ndisplay(iframe)\ndisplay(refresh_button)",
      "metadata": {
        "trusted": true
      },
      "outputs": [
        {
          "output_type": "display_data",
          "data": {
            "text/plain": "Dropdown(description='اختر الصفحة:', options=(('صفحة 1', 'https://ayman1077.blogspot.com/2024/04/w2.html'), ('…",
            "application/vnd.jupyter.widget-view+json": {
              "version_major": 2,
              "version_minor": 0,
              "model_id": "b229714f8f2042b3890ea209e4dceab7"
            }
          },
          "metadata": {}
        },
        {
          "output_type": "display_data",
          "data": {
            "text/plain": "HTML(value='<iframe src=\"https://ayman1077.blogspot.com/2024/04/w2.html\" width=\"10%\" height=\"50px\"></iframe>')",
            "application/vnd.jupyter.widget-view+json": {
              "version_major": 2,
              "version_minor": 0,
              "model_id": "726bf55a5cbd419395e6e72dda46c833"
            }
          },
          "metadata": {}
        },
        {
          "output_type": "display_data",
          "data": {
            "text/plain": "Button(description='تحديث الصفحة', style=ButtonStyle())",
            "application/vnd.jupyter.widget-view+json": {
              "version_major": 2,
              "version_minor": 0,
              "model_id": "5ea43cd5ed5741a79a58ed33c2b45312"
            }
          },
          "metadata": {}
        }
      ],
      "execution_count": 126
    },
    {
      "cell_type": "code",
      "source": "# تعريف الروابط\nurls = [\n    \"https://ayman1077.blogspot.com/2024/04/w2.html\",\n    \"https://ayman1077.blogspot.com/2024/05/alfa.html\"\n]\n\n# إنشاء القائمة المنسدلة\ndropdown = widgets.Dropdown(\n    options=[(f\"صفحة {i+1}\", url) for i, url in enumerate(urls)],\n    description='اختر الصفحة:',\n    style={'description_width': 'initial'}\n)\n\n# إنشاء إطار iframe\niframe = widgets.HTML(\n    value=f'<iframe src=\"{urls[0]}\" width=\"10%\" height=\"50px\"></iframe>'\n)\n\n# دالة لتحديث الإطار عند تغيير الاختيار\ndef on_change(change):\n    iframe.value = f'<iframe src=\"{change.new}\" width=\"10%\" height=\"50px\"></iframe>'\n\ndropdown.observe(on_change, names='value')\n\n# إنشاء زر التحديث\nrefresh_button = widgets.Button(description=\"تحديث الصفحة\")\n\ndef on_refresh_click(b):\n    iframe.value = iframe.value.replace('src=\"', 'src=\"')\n\nrefresh_button.on_click(on_refresh_click)\n\n# عرض الواجهة\ndisplay(dropdown)\ndisplay(iframe)\ndisplay(refresh_button)",
      "metadata": {
        "trusted": true
      },
      "outputs": [
        {
          "output_type": "display_data",
          "data": {
            "text/plain": "Dropdown(description='اختر الصفحة:', options=(('صفحة 1', 'https://ayman1077.blogspot.com/2024/04/w2.html'), ('…",
            "application/vnd.jupyter.widget-view+json": {
              "version_major": 2,
              "version_minor": 0,
              "model_id": "49ef7eb0a51f40109d18c8062396a830"
            }
          },
          "metadata": {}
        },
        {
          "output_type": "display_data",
          "data": {
            "text/plain": "HTML(value='<iframe src=\"https://ayman1077.blogspot.com/2024/04/w2.html\" width=\"10%\" height=\"50px\"></iframe>')",
            "application/vnd.jupyter.widget-view+json": {
              "version_major": 2,
              "version_minor": 0,
              "model_id": "1e4b9eea82394751bbf5ee4c70d32965"
            }
          },
          "metadata": {}
        },
        {
          "output_type": "display_data",
          "data": {
            "text/plain": "Button(description='تحديث الصفحة', style=ButtonStyle())",
            "application/vnd.jupyter.widget-view+json": {
              "version_major": 2,
              "version_minor": 0,
              "model_id": "b01109358f5347f4b4104c541bd9cb6e"
            }
          },
          "metadata": {}
        }
      ],
      "execution_count": 127
    },
    {
      "cell_type": "code",
      "source": "# تعريف الروابط\nurls = [\n    \"https://ayman1077.blogspot.com/2024/04/w2.html\",\n    \"https://ayman1077.blogspot.com/2024/05/alfa.html\"\n]\n\n# إنشاء القائمة المنسدلة\ndropdown = widgets.Dropdown(\n    options=[(f\"صفحة {i+1}\", url) for i, url in enumerate(urls)],\n    description='اختر الصفحة:',\n    style={'description_width': 'initial'}\n)\n\n# إنشاء إطار iframe\niframe = widgets.HTML(\n    value=f'<iframe src=\"{urls[0]}\" width=\"10%\" height=\"50px\"></iframe>'\n)\n\n# دالة لتحديث الإطار عند تغيير الاختيار\ndef on_change(change):\n    iframe.value = f'<iframe src=\"{change.new}\" width=\"10%\" height=\"50px\"></iframe>'\n\ndropdown.observe(on_change, names='value')\n\n# إنشاء زر التحديث\nrefresh_button = widgets.Button(description=\"تحديث الصفحة\")\n\ndef on_refresh_click(b):\n    iframe.value = iframe.value.replace('src=\"', 'src=\"')\n\nrefresh_button.on_click(on_refresh_click)\n\n# عرض الواجهة\ndisplay(dropdown)\ndisplay(iframe)\ndisplay(refresh_button)",
      "metadata": {
        "trusted": true
      },
      "outputs": [
        {
          "output_type": "display_data",
          "data": {
            "text/plain": "Dropdown(description='اختر الصفحة:', options=(('صفحة 1', 'https://ayman1077.blogspot.com/2024/04/w2.html'), ('…",
            "application/vnd.jupyter.widget-view+json": {
              "version_major": 2,
              "version_minor": 0,
              "model_id": "78f6c7771da54a508ae0e307acf9d41d"
            }
          },
          "metadata": {}
        },
        {
          "output_type": "display_data",
          "data": {
            "text/plain": "HTML(value='<iframe src=\"https://ayman1077.blogspot.com/2024/04/w2.html\" width=\"10%\" height=\"50px\"></iframe>')",
            "application/vnd.jupyter.widget-view+json": {
              "version_major": 2,
              "version_minor": 0,
              "model_id": "d22a039775ec46cb887a9dcbd422d953"
            }
          },
          "metadata": {}
        },
        {
          "output_type": "display_data",
          "data": {
            "text/plain": "Button(description='تحديث الصفحة', style=ButtonStyle())",
            "application/vnd.jupyter.widget-view+json": {
              "version_major": 2,
              "version_minor": 0,
              "model_id": "d2085702c65f4333b867d31135cd33fe"
            }
          },
          "metadata": {}
        }
      ],
      "execution_count": 128
    },
    {
      "cell_type": "code",
      "source": "# تعريف الروابط\nurls = [\n    \"https://ayman1077.blogspot.com/2024/04/w2.html\",\n    \"https://ayman1077.blogspot.com/2024/05/alfa.html\"\n]\n\n# إنشاء القائمة المنسدلة\ndropdown = widgets.Dropdown(\n    options=[(f\"صفحة {i+1}\", url) for i, url in enumerate(urls)],\n    description='اختر الصفحة:',\n    style={'description_width': 'initial'}\n)\n\n# إنشاء إطار iframe\niframe = widgets.HTML(\n    value=f'<iframe src=\"{urls[0]}\" width=\"10%\" height=\"50px\"></iframe>'\n\n)\n\n# دالة لتحديث الإطار عند تغيير الاختيار\ndef on_change(change):\n    iframe.value = f'<iframe src=\"{change.new}\" width=\"10%\" height=\"50px\"></iframe>'\n\ndropdown.observe(on_change, names='value')\n\n# إنشاء زر التحديث\nrefresh_button = widgets.Button(description=\"تحديث الصفحة\")\n\ndef on_refresh_click(b):\n    iframe.value = iframe.value.replace('src=\"', 'src=\"')\n\nrefresh_button.on_click(on_refresh_click)\n\n# عرض الواجهة\ndisplay(dropdown)\ndisplay(iframe)\ndisplay(refresh_button)",
      "metadata": {
        "trusted": true
      },
      "outputs": [
        {
          "output_type": "display_data",
          "data": {
            "text/plain": "Dropdown(description='اختر الصفحة:', options=(('صفحة 1', 'https://ayman1077.blogspot.com/2024/04/w2.html'), ('…",
            "application/vnd.jupyter.widget-view+json": {
              "version_major": 2,
              "version_minor": 0,
              "model_id": "28aa2c37d12c4902b10eeb9b50166ed9"
            }
          },
          "metadata": {}
        },
        {
          "output_type": "display_data",
          "data": {
            "text/plain": "HTML(value='<iframe src=\"https://ayman1077.blogspot.com/2024/04/w2.html\" width=\"10%\" height=\"50px\"></iframe>')",
            "application/vnd.jupyter.widget-view+json": {
              "version_major": 2,
              "version_minor": 0,
              "model_id": "f472a5f934274d3986e3133a96480232"
            }
          },
          "metadata": {}
        },
        {
          "output_type": "display_data",
          "data": {
            "text/plain": "Button(description='تحديث الصفحة', style=ButtonStyle())",
            "application/vnd.jupyter.widget-view+json": {
              "version_major": 2,
              "version_minor": 0,
              "model_id": "e432029ed2a84c0d8bc76955362ce12c"
            }
          },
          "metadata": {}
        }
      ],
      "execution_count": 129
    },
    {
      "cell_type": "code",
      "source": "# تعريف الروابط\nurls = [\n    \"https://ayman1077.blogspot.com/2024/04/w2.html\",\n    \"https://ayman1077.blogspot.com/2024/05/alfa.html\"\n]\n\n# إنشاء القائمة المنسدلة\ndropdown = widgets.Dropdown(\n    options=[(f\"صفحة {i+1}\", url) for i, url in enumerate(urls)],\n    description='اختر الصفحة:',\n    style={'description_width': 'initial'}\n)\n\n# إنشاء إطار iframe\niframe = widgets.HTML(\n    value=f'<iframe src=\"{urls[0]}\" width=\"10%\" height=\"50px\"></iframe>'\n\n)\n\n# دالة لتحديث الإطار عند تغيير الاختيار\ndef on_change(change):\n    iframe.value = f'<iframe src=\"{change.new}\" width=\"10%\" height=\"50px\"></iframe>'\n\ndropdown.observe(on_change, names='value')\n\n# إنشاء زر التحديث\nrefresh_button = widgets.Button(description=\"تحديث الصفحة\")\n\ndef on_refresh_click(b):\n    iframe.value = iframe.value.replace('src=\"', 'src=\"')\n\nrefresh_button.on_click(on_refresh_click)\n\n# عرض الواجهة\ndisplay(dropdown)\ndisplay(iframe)\ndisplay(refresh_button)",
      "metadata": {
        "trusted": true
      },
      "outputs": [
        {
          "output_type": "display_data",
          "data": {
            "text/plain": "Dropdown(description='اختر الصفحة:', options=(('صفحة 1', 'https://ayman1077.blogspot.com/2024/04/w2.html'), ('…",
            "application/vnd.jupyter.widget-view+json": {
              "version_major": 2,
              "version_minor": 0,
              "model_id": "a2ccfb02d44f49ebbc858d15cc0e0eba"
            }
          },
          "metadata": {}
        },
        {
          "output_type": "display_data",
          "data": {
            "text/plain": "HTML(value='<iframe src=\"https://ayman1077.blogspot.com/2024/04/w2.html\" width=\"10%\" height=\"50px\"></iframe>')",
            "application/vnd.jupyter.widget-view+json": {
              "version_major": 2,
              "version_minor": 0,
              "model_id": "5d3730ab9c3a4711821dd140f167f861"
            }
          },
          "metadata": {}
        },
        {
          "output_type": "display_data",
          "data": {
            "text/plain": "Button(description='تحديث الصفحة', style=ButtonStyle())",
            "application/vnd.jupyter.widget-view+json": {
              "version_major": 2,
              "version_minor": 0,
              "model_id": "9b6f2b804e204688b4e8db36e6d12dc7"
            }
          },
          "metadata": {}
        }
      ],
      "execution_count": 130
    },
    {
      "cell_type": "code",
      "source": "# تعريف الروابط\nurls = [\n    \"https://ayman1077.blogspot.com/2024/04/w2.html\",\n    \"https://ayman1077.blogspot.com/2024/05/alfa.html\"\n]\n\n# إنشاء القائمة المنسدلة\ndropdown = widgets.Dropdown(\n    options=[(f\"صفحة {i+1}\", url) for i, url in enumerate(urls)],\n    description='اختر الصفحة:',\n    style={'description_width': 'initial'}\n)\n\n# إنشاء إطار iframe\niframe = widgets.HTML(\n    value=f'<iframe src=\"{urls[0]}\" width=\"10%\" height=\"50px\"></iframe>'\n\n)\n\n# دالة لتحديث الإطار عند تغيير الاختيار\ndef on_change(change):\n    iframe.value = f'<iframe src=\"{change.new}\" width=\"10%\" height=\"50px\"></iframe>'\n\ndropdown.observe(on_change, names='value')\n\n# إنشاء زر التحديث\nrefresh_button = widgets.Button(description=\"تحديث الصفحة\")\n\ndef on_refresh_click(b):\n    iframe.value = iframe.value.replace('src=\"', 'src=\"')\n\nrefresh_button.on_click(on_refresh_click)\n\n# عرض الواجهة\ndisplay(dropdown)\ndisplay(iframe)\ndisplay(refresh_button)",
      "metadata": {
        "trusted": true
      },
      "outputs": [
        {
          "output_type": "display_data",
          "data": {
            "text/plain": "Dropdown(description='اختر الصفحة:', options=(('صفحة 1', 'https://ayman1077.blogspot.com/2024/04/w2.html'), ('…",
            "application/vnd.jupyter.widget-view+json": {
              "version_major": 2,
              "version_minor": 0,
              "model_id": "25d15ab0bce64153b3ca45b136aea1e2"
            }
          },
          "metadata": {}
        },
        {
          "output_type": "display_data",
          "data": {
            "text/plain": "HTML(value='<iframe src=\"https://ayman1077.blogspot.com/2024/04/w2.html\" width=\"10%\" height=\"50px\"></iframe>')",
            "application/vnd.jupyter.widget-view+json": {
              "version_major": 2,
              "version_minor": 0,
              "model_id": "51849556784b40e097cde4a542761983"
            }
          },
          "metadata": {}
        },
        {
          "output_type": "display_data",
          "data": {
            "text/plain": "Button(description='تحديث الصفحة', style=ButtonStyle())",
            "application/vnd.jupyter.widget-view+json": {
              "version_major": 2,
              "version_minor": 0,
              "model_id": "ceb3bd410dae4d0db1a6e2726599b490"
            }
          },
          "metadata": {}
        }
      ],
      "execution_count": 131
    },
    {
      "cell_type": "code",
      "source": "# تعريف الروابط\nurls = [\n    \"https://ayman1077.blogspot.com/2024/04/w2.html\",\n    \"https://ayman1077.blogspot.com/2024/05/alfa.html\"\n]\n\n# إنشاء القائمة المنسدلة\ndropdown = widgets.Dropdown(\n    options=[(f\"صفحة {i+1}\", url) for i, url in enumerate(urls)],\n    description='اختر الصفحة:',\n    style={'description_width': 'initial'}\n)\n\n# إنشاء إطار iframe\niframe = widgets.HTML(\n    value=f'<iframe src=\"{urls[0]}\" width=\"10%\" height=\"50px\"></iframe>'\n\n)\n\n# دالة لتحديث الإطار عند تغيير الاختيار\ndef on_change(change):\n    iframe.value = f'<iframe src=\"{change.new}\" width=\"10%\" height=\"50px\"></iframe>'\n\ndropdown.observe(on_change, names='value')\n\n# إنشاء زر التحديث\nrefresh_button = widgets.Button(description=\"تحديث الصفحة\")\n\ndef on_refresh_click(b):\n    iframe.value = iframe.value.replace('src=\"', 'src=\"')\n\nrefresh_button.on_click(on_refresh_click)\n\n# عرض الواجهة\ndisplay(dropdown)\ndisplay(iframe)\ndisplay(refresh_button)",
      "metadata": {
        "trusted": true
      },
      "outputs": [
        {
          "output_type": "display_data",
          "data": {
            "text/plain": "Dropdown(description='اختر الصفحة:', options=(('صفحة 1', 'https://ayman1077.blogspot.com/2024/04/w2.html'), ('…",
            "application/vnd.jupyter.widget-view+json": {
              "version_major": 2,
              "version_minor": 0,
              "model_id": "433a23f430d9404f8dbd39cd09029522"
            }
          },
          "metadata": {}
        },
        {
          "output_type": "display_data",
          "data": {
            "text/plain": "HTML(value='<iframe src=\"https://ayman1077.blogspot.com/2024/04/w2.html\" width=\"10%\" height=\"50px\"></iframe>')",
            "application/vnd.jupyter.widget-view+json": {
              "version_major": 2,
              "version_minor": 0,
              "model_id": "e98ccc4363864a95ac644a6384e4b8cb"
            }
          },
          "metadata": {}
        },
        {
          "output_type": "display_data",
          "data": {
            "text/plain": "Button(description='تحديث الصفحة', style=ButtonStyle())",
            "application/vnd.jupyter.widget-view+json": {
              "version_major": 2,
              "version_minor": 0,
              "model_id": "6c4556fdd9d54906b3097b123ca66753"
            }
          },
          "metadata": {}
        }
      ],
      "execution_count": 132
    },
    {
      "cell_type": "code",
      "source": "# تعريف الروابط\nurls = [\n    \"https://ayman1077.blogspot.com/2024/04/w2.html\",\n    \"https://ayman1077.blogspot.com/2024/05/alfa.html\"\n]\n\n# إنشاء القائمة المنسدلة\ndropdown = widgets.Dropdown(\n    options=[(f\"صفحة {i+1}\", url) for i, url in enumerate(urls)],\n    description='اختر الصفحة:',\n    style={'description_width': 'initial'}\n)\n\n# إنشاء إطار iframe\niframe = widgets.HTML(\n    value=f'<iframe src=\"{urls[0]}\" width=\"10%\" height=\"50px\"></iframe>'\n\n)\n\n# دالة لتحديث الإطار عند تغيير الاختيار\ndef on_change(change):\n    iframe.value = f'<iframe src=\"{change.new}\" width=\"10%\" height=\"50px\"></iframe>'\n\ndropdown.observe(on_change, names='value')\n\n# إنشاء زر التحديث\nrefresh_button = widgets.Button(description=\"تحديث الصفحة\")\n\ndef on_refresh_click(b):\n    iframe.value = iframe.value.replace('src=\"', 'src=\"')\n\nrefresh_button.on_click(on_refresh_click)\n\n# عرض الواجهة\ndisplay(dropdown)\ndisplay(iframe)\ndisplay(refresh_button)",
      "metadata": {
        "trusted": true
      },
      "outputs": [
        {
          "output_type": "display_data",
          "data": {
            "text/plain": "Dropdown(description='اختر الصفحة:', options=(('صفحة 1', 'https://ayman1077.blogspot.com/2024/04/w2.html'), ('…",
            "application/vnd.jupyter.widget-view+json": {
              "version_major": 2,
              "version_minor": 0,
              "model_id": "92bc043fe9a14901b2d120f826d36ce0"
            }
          },
          "metadata": {}
        },
        {
          "output_type": "display_data",
          "data": {
            "text/plain": "HTML(value='<iframe src=\"https://ayman1077.blogspot.com/2024/04/w2.html\" width=\"10%\" height=\"50px\"></iframe>')",
            "application/vnd.jupyter.widget-view+json": {
              "version_major": 2,
              "version_minor": 0,
              "model_id": "e33fc8fee4c3449a8ba5ea799c850825"
            }
          },
          "metadata": {}
        },
        {
          "output_type": "display_data",
          "data": {
            "text/plain": "Button(description='تحديث الصفحة', style=ButtonStyle())",
            "application/vnd.jupyter.widget-view+json": {
              "version_major": 2,
              "version_minor": 0,
              "model_id": "da274d4254c34fb6b7aa1cf772cd8686"
            }
          },
          "metadata": {}
        }
      ],
      "execution_count": 133
    },
    {
      "cell_type": "code",
      "source": "# تعريف الروابط\nurls = [\n    \"https://ayman1077.blogspot.com/2024/04/w2.html\",\n    \"https://ayman1077.blogspot.com/2024/05/alfa.html\"\n]\n\n# إنشاء القائمة المنسدلة\ndropdown = widgets.Dropdown(\n    options=[(f\"صفحة {i+1}\", url) for i, url in enumerate(urls)],\n    description='اختر الصفحة:',\n    style={'description_width': 'initial'}\n)\n\n# إنشاء إطار iframe\niframe = widgets.HTML(\n    value=f'<iframe src=\"{urls[0]}\" width=\"10%\" height=\"50px\"></iframe>'\n\n)\n\n# دالة لتحديث الإطار عند تغيير الاختيار\ndef on_change(change):\n    iframe.value = f'<iframe src=\"{change.new}\" width=\"10%\" height=\"50px\"></iframe>'\n\ndropdown.observe(on_change, names='value')\n\n# إنشاء زر التحديث\nrefresh_button = widgets.Button(description=\"تحديث الصفحة\")\n\ndef on_refresh_click(b):\n    iframe.value = iframe.value.replace('src=\"', 'src=\"')\n\nrefresh_button.on_click(on_refresh_click)\n\n# عرض الواجهة\ndisplay(dropdown)\ndisplay(iframe)\ndisplay(refresh_button)",
      "metadata": {
        "trusted": true
      },
      "outputs": [],
      "execution_count": null
    }
  ]
}